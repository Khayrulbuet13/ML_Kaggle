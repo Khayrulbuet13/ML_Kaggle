{
  "cells": [
    {
      "cell_type": "code",
      "execution_count": null,
      "id": "ccf4eeb0",
      "metadata": {
        "execution": {
          "iopub.execute_input": "2023-02-25T16:15:48.652621Z",
          "iopub.status.busy": "2023-02-25T16:15:48.652236Z",
          "iopub.status.idle": "2023-02-25T16:16:04.161449Z",
          "shell.execute_reply": "2023-02-25T16:16:04.159906Z"
        },
        "papermill": {
          "duration": 15.515388,
          "end_time": "2023-02-25T16:16:04.164607",
          "exception": false,
          "start_time": "2023-02-25T16:15:48.649219",
          "status": "completed"
        },
        "tags": [],
        "id": "ccf4eeb0"
      },
      "outputs": [],
      "source": [
        "%%capture\n",
        "!pip install comet_ml torch torchvision tqdm "
      ]
    },
    {
      "cell_type": "code",
      "execution_count": 15,
      "id": "d32ed571",
      "metadata": {
        "papermill": {
          "duration": 0.00384,
          "end_time": "2023-02-25T16:16:04.172994",
          "exception": false,
          "start_time": "2023-02-25T16:16:04.169154",
          "status": "completed"
        },
        "tags": [],
        "id": "d32ed571",
        "outputId": "6ef10cb5-37f4-4565-f6b8-1b0d674dfe7b",
        "colab": {
          "base_uri": "https://localhost:8080/"
        }
      },
      "outputs": [
        {
          "output_type": "stream",
          "name": "stdout",
          "text": [
            "Drive already mounted at /gdrive; to attempt to forcibly remount, call drive.mount(\"/gdrive\", force_remount=True).\n"
          ]
        }
      ],
      "source": [
        "# importing google colab and changing directory\n",
        "\n",
        "from google.colab import drive\n",
        "import os \n",
        "drive.mount('/gdrive')\n",
        "# !ln -s \"/gdrive/Shareddrives/HSC_project/HSC_ML\" \"/content/HSC_ML\"\n",
        "os.chdir(\"/gdrive/Shareddrives/ML_Practice/From_Khayrul\")"
      ]
    },
    {
      "cell_type": "code",
      "source": [
        "# other bash operations\n",
        "\n",
        "# !ls \n",
        "# !unzip titanic.zip"
      ],
      "metadata": {
        "id": "k0QIE6neavLv"
      },
      "id": "k0QIE6neavLv",
      "execution_count": null,
      "outputs": []
    },
    {
      "cell_type": "markdown",
      "source": [
        "#Connect Comet"
      ],
      "metadata": {
        "id": "ZkK-SyeAdZnj"
      },
      "id": "ZkK-SyeAdZnj"
    },
    {
      "cell_type": "code",
      "source": [
        "# connecting comet with api\n",
        "import comet_ml\n",
        "comet_ml.init(project_name=\"kaggle-titanic\")"
      ],
      "metadata": {
        "id": "Hz83r297bvXW"
      },
      "id": "Hz83r297bvXW",
      "execution_count": null,
      "outputs": []
    },
    {
      "cell_type": "markdown",
      "source": [
        "#Setitng Hyperparameters"
      ],
      "metadata": {
        "id": "NKKfuSF2dcpo"
      },
      "id": "NKKfuSF2dcpo"
    },
    {
      "cell_type": "code",
      "source": [
        "hyper_params = {\"batch_size\": 100, \"num_epochs\": 2, \"learning_rate\": 0.01}\n",
        "experiment = comet_ml.Experiment()\n",
        "experiment.log_parameters(hyper_params)"
      ],
      "metadata": {
        "id": "ZoX_jLBTcLYU"
      },
      "id": "ZoX_jLBTcLYU",
      "execution_count": null,
      "outputs": []
    },
    {
      "cell_type": "markdown",
      "source": [
        "#Import and Preprocess"
      ],
      "metadata": {
        "id": "QviPIxiediRc"
      },
      "id": "QviPIxiediRc"
    },
    {
      "cell_type": "code",
      "source": [
        "import pandas as pd\n",
        "import numpy as np"
      ],
      "metadata": {
        "id": "hRMmgfhHdmGY"
      },
      "id": "hRMmgfhHdmGY",
      "execution_count": 17,
      "outputs": []
    },
    {
      "cell_type": "code",
      "source": [],
      "metadata": {
        "id": "AIfuKBKzdpl9"
      },
      "id": "AIfuKBKzdpl9",
      "execution_count": null,
      "outputs": []
    }
  ],
  "metadata": {
    "kernelspec": {
      "display_name": "Python 3",
      "language": "python",
      "name": "python3"
    },
    "language_info": {
      "codemirror_mode": {
        "name": "ipython",
        "version": 3
      },
      "file_extension": ".py",
      "mimetype": "text/x-python",
      "name": "python",
      "nbconvert_exporter": "python",
      "pygments_lexer": "ipython3",
      "version": "3.7.12"
    },
    "papermill": {
      "default_parameters": {},
      "duration": 27.220568,
      "end_time": "2023-02-25T16:16:04.900254",
      "environment_variables": {},
      "exception": null,
      "input_path": "__notebook__.ipynb",
      "output_path": "__notebook__.ipynb",
      "parameters": {},
      "start_time": "2023-02-25T16:15:37.679686",
      "version": "2.4.0"
    },
    "colab": {
      "provenance": []
    }
  },
  "nbformat": 4,
  "nbformat_minor": 5
}